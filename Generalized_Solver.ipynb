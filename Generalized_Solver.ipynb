{
 "cells": [
  {
   "cell_type": "markdown",
   "metadata": {},
   "source": [
    "# Generalized Class for Solving Multidimensional Linear Systems\n",
    "\n",
    "### Note: Define all needed symbols outside the class\n",
    "\n",
    "In this file we write a solver for an arbitrary linear system and show it works for a 3 dimensional example system"
   ]
  },
  {
   "cell_type": "code",
   "execution_count": 1,
   "metadata": {
    "collapsed": true
   },
   "outputs": [],
   "source": [
    "from sympy import *\n",
    "import numpy as np\n",
    "from tqdm import tqdm\n",
    "import matplotlib.pyplot as plt"
   ]
  },
  {
   "cell_type": "code",
   "execution_count": 2,
   "metadata": {
    "collapsed": true
   },
   "outputs": [],
   "source": [
    "class SystemSolve():\n",
    "    def __init__(self,dim,terms,A,deriv,print_on=True):\n",
    "        self.dim = dim\n",
    "        self.terms = terms\n",
    "        self.A = A\n",
    "        self.deriv = deriv\n",
    "        self._createB()\n",
    "        self.p = print_on\n",
    "        return\n",
    "    \n",
    "    def _createB(self):\n",
    "        self.B = []\n",
    "        for i in range(self.terms):\n",
    "            b = []\n",
    "            for j in range(1,self.dim+1):\n",
    "                b.append(sympify('B{}_{}'.format(i,j)))\n",
    "            self.B.append(b)\n",
    "        return\n",
    "    \n",
    "    def setEigs(self, e_val, e_vec):\n",
    "        self.e_val = e_val\n",
    "        self.B_tups = []\n",
    "        b_tups = []\n",
    "        for i in range(self.dim):\n",
    "            b_tups.append((self.B[0][i],e_vec[i]))\n",
    "\n",
    "        self.B_tups.append(b_tups)\n",
    "        return\n",
    "    \n",
    "    def createSys(self):\n",
    "        W = []\n",
    "        W_deriv = []\n",
    "\n",
    "        for j in range(self.dim):\n",
    "            w = sympify(0)\n",
    "            for i in range(self.terms):\n",
    "                w += self.B[i][j]*sigma**i\n",
    "            w_deriv = diff(w, sigma)\n",
    "\n",
    "            W.append(w)\n",
    "            W_deriv.append(w_deriv)\n",
    "\n",
    "        # Store W and W' as numpy arrays\n",
    "        self.W = np.array(W)\n",
    "        self.W_deriv = np.array(W_deriv)\n",
    "\n",
    "        # Replace matrix A by A-lam*I\n",
    "        Anew = self.A - np.eye(self.dim)*alpha\n",
    "\n",
    "        # Define system of equations from each row of A\n",
    "        eqs = []\n",
    "        for i in range(self.dim):\n",
    "            eq = np.dot(Anew[i],self.W)-self.W_deriv[i]*self.deriv\n",
    "            eqs.append(eq)\n",
    "   \n",
    "\n",
    "        # Isolate coefficients for each power of sigma\n",
    "        eq_der = [eq.copy() for eq in eqs]\n",
    "        heqs = []\n",
    "\n",
    "        for i in range(self.terms):\n",
    "            if i==0: prod = 1\n",
    "            else: \n",
    "                prod *= i\n",
    "\n",
    "            if self.p: print('\\n\\npower = {}'.format(i)) \n",
    "            res = [eqd.subs(sigma,0)/prod for eqd in eq_der]\n",
    "\n",
    "            if self.p:\n",
    "                for r in res:\n",
    "                    print('\\n')\n",
    "                    print(r)\n",
    "\n",
    "            heqs.append(res)    \n",
    "            eq_der = [diff(eqd,sigma) for eqd in eq_der]\n",
    "\n",
    "        # Solve for the coefficients of W\n",
    "\n",
    "        up = 1\n",
    "        stop = True\n",
    "        for j in range(len(heqs)):\n",
    "            if j == len(heqs)-1 and stop:\n",
    "                break\n",
    "            if self.p:\n",
    "                p1 = '-'*21+'\\nsystem when sigma = '\n",
    "                p2 = str(j)+'\\n'+'-'*21+'\\n'\n",
    "                print(p1+p2)\n",
    "                \n",
    "            if j == 0:\n",
    "                try: \n",
    "                    matrix, vector = linear_eq_to_matrix(heqs[j],self.B[j+up])\n",
    "                    soln = matrix.LUsolve(vector)\n",
    "                except: \n",
    "                    #print('failed')\n",
    "                    up = 0\n",
    "                    stop = False\n",
    "            matrix, vector = linear_eq_to_matrix(heqs[j],self.B[j+up])\n",
    "            soln = matrix.LUsolve(vector)\n",
    "            b_tups = []\n",
    "            for i in range(self.dim):\n",
    "                val = str(self.B[j+up][i]) +' = '+str(soln[i])\n",
    "                if j != 0 or stop: \n",
    "                    b_tups.append((self.B[j+up][i],soln[i].subs(self.B_tups[-1])))\n",
    "                if self.p: print(val,'\\n\\n')\n",
    "            if j != 0 or stop: self.B_tups.append(b_tups)\n",
    "                \n",
    "        self.B_vals = [i for s in self.B_tups for i in s]\n",
    "        \n",
    "    def evalW(self, sig_val, lam_val=None, other_vals=[]):\n",
    "        add_vals = [(alpha,self.e_val),(sigma,sig_val)]\n",
    "        if lam_val is not None: add_vals.append((lam,lam_val))\n",
    "            \n",
    "        to_sub = self.B_vals + add_vals + other_vals\n",
    "        W = [w.subs(to_sub) for w in self.W]\n",
    "        return W\n",
    "    \n",
    "    def checkBNorms(self, lam_val, other_vals=[]):\n",
    "        norms = []\n",
    "        all_vals = self.B_vals+[(alpha,self.e_val),(lam,lam_val)]+other_vals\n",
    "        for b in tqdm(self.B):\n",
    "            norm = sympify(0)\n",
    "            for i in b:\n",
    "                norm = norm + Abs(i)\n",
    "            norm = (norm)**(1/2)\n",
    "            \n",
    "            norm = norm.subs(all_vals)\n",
    "            #print(norm)\n",
    "            norms.append(norm)\n",
    "\n",
    "        return norms"
   ]
  },
  {
   "cell_type": "markdown",
   "metadata": {},
   "source": [
    "## Practice System"
   ]
  },
  {
   "cell_type": "code",
   "execution_count": 4,
   "metadata": {
    "collapsed": true
   },
   "outputs": [],
   "source": [
    "sigma, alpha, lam = symbols('sigma,alpha,lam')\n",
    "dim = 3\n",
    "num_terms = 10\n",
    "A = np.array([[3+3*sigma,lam,1],[0,-sigma-1,lam],[0,0,-2-sigma]])\n",
    "d_dx = -2*sigma-sigma**2\n",
    "e_val = -1\n",
    "e_vec = np.array([lam, -4, 0])"
   ]
  },
  {
   "cell_type": "code",
   "execution_count": 5,
   "metadata": {
    "scrolled": true
   },
   "outputs": [],
   "source": [
    "my_sys = SystemSolve(dim, num_terms, A, d_dx,False)\n",
    "my_sys.setEigs(e_val,e_vec)\n",
    "my_sys.createSys()"
   ]
  },
  {
   "cell_type": "code",
   "execution_count": 6,
   "metadata": {
    "scrolled": false
   },
   "outputs": [
    {
     "data": {
      "text/plain": [
       "[93.3333079020182, -5.00000000000000, 0]"
      ]
     },
     "execution_count": 6,
     "metadata": {},
     "output_type": "execute_result"
    }
   ],
   "source": [
    "my_sys.evalW(.5,100)"
   ]
  },
  {
   "cell_type": "code",
   "execution_count": 7,
   "metadata": {},
   "outputs": [
    {
     "data": {
      "text/plain": [
       "[95.6521737458985, -4.60000000000000, 0]"
      ]
     },
     "execution_count": 7,
     "metadata": {},
     "output_type": "execute_result"
    }
   ],
   "source": [
    "my_sys.evalW(.3,100)"
   ]
  },
  {
   "cell_type": "code",
   "execution_count": 8,
   "metadata": {},
   "outputs": [
    {
     "name": "stderr",
     "output_type": "stream",
     "text": [
      "100%|██████████| 10/10 [00:01<00:00,  6.39it/s]\n"
     ]
    }
   ],
   "source": [
    "norms = my_sys.checkBNorms(100)"
   ]
  },
  {
   "cell_type": "code",
   "execution_count": 9,
   "metadata": {},
   "outputs": [
    {
     "data": {
      "text/plain": [
       "[10.1980390271856,\n",
       " 4.32049379893857,\n",
       " 2.88675134594813,\n",
       " 2.04124145231932,\n",
       " 1.44337567297406,\n",
       " 1.02062072615966,\n",
       " 0.721687836487032,\n",
       " 0.510310363079829,\n",
       " 0.360843918243516,\n",
       " 0.255155181539914]"
      ]
     },
     "execution_count": 9,
     "metadata": {},
     "output_type": "execute_result"
    }
   ],
   "source": [
    "norms"
   ]
  },
  {
   "cell_type": "code",
   "execution_count": null,
   "metadata": {
    "collapsed": true
   },
   "outputs": [],
   "source": []
  }
 ],
 "metadata": {
  "kernelspec": {
   "display_name": "Python 3",
   "language": "python",
   "name": "python3"
  },
  "language_info": {
   "codemirror_mode": {
    "name": "ipython",
    "version": 3
   },
   "file_extension": ".py",
   "mimetype": "text/x-python",
   "name": "python",
   "nbconvert_exporter": "python",
   "pygments_lexer": "ipython3",
   "version": "3.7.0"
  }
 },
 "nbformat": 4,
 "nbformat_minor": 2
}
